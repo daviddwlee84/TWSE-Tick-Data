{
 "cells": [
  {
   "cell_type": "markdown",
   "id": "5e0c3af9",
   "metadata": {},
   "source": [
    "## Compress using GZIP"
   ]
  },
  {
   "cell_type": "code",
   "execution_count": 5,
   "id": "c23d4613",
   "metadata": {},
   "outputs": [],
   "source": [
    "!gzip -9k ../snapshot/Sample_new"
   ]
  },
  {
   "cell_type": "code",
   "execution_count": 6,
   "id": "87101404",
   "metadata": {},
   "outputs": [],
   "source": [
    "file_path = \"../snapshot/Sample_new.gz\""
   ]
  },
  {
   "cell_type": "markdown",
   "id": "c2f41e03",
   "metadata": {},
   "source": [
    "## Pure Python"
   ]
  },
  {
   "cell_type": "code",
   "execution_count": 10,
   "id": "3bab5884",
   "metadata": {},
   "outputs": [],
   "source": [
    "from __future__ import annotations\n",
    "import gzip\n",
    "from pathlib import Path\n",
    "from typing import Iterator"
   ]
  },
  {
   "cell_type": "code",
   "execution_count": 14,
   "id": "46bbb7c5",
   "metadata": {},
   "outputs": [],
   "source": [
    "# with gzip.open(file_path, \"rt\", encoding=\"utf-8\") as fh:\n",
    "#     print(fh.read())"
   ]
  },
  {
   "cell_type": "code",
   "execution_count": null,
   "id": "14b6f00e",
   "metadata": {},
   "outputs": [
    {
     "name": "stdout",
     "output_type": "stream",
     "text": [
      "0050  083004446448T   000000000000005 01995000000029019900000000200191500000000301900000000001018800000000011 020300000000020000000000000000000000000000000000000000000000000000000020241111AA\n",
      "0050  083009462008T   000000000000005 01995000000027019900000000320198000000000101970000000001019500000000015 020000000000010200650000000102010000000001020150000000010203000000000420241111AA\n",
      "0050  083014478574T   000000000000005 01995000000017019900000000330198000000000101970000000001019500000000015 020000000000020200650000000102010000000002020150000000010203000000000420241111AA\n"
     ]
    }
   ],
   "source": [
    "def stream_lines(path: str | Path, encoding: str = \"utf-8\") -> Iterator[str]:\n",
    "    \"\"\"\n",
    "    Stream a gzip-compressed, line-separated text file.\n",
    "\n",
    "    Args:\n",
    "        path: Path to .gz file.\n",
    "        encoding: Text encoding of the original file.\n",
    "\n",
    "    Yields:\n",
    "        One decoded line at a time (newline stripped).\n",
    "    \"\"\"\n",
    "    with gzip.open(path, \"rt\", encoding=encoding) as fh:\n",
    "        for line in fh:\n",
    "            yield line.rstrip(\"\\n\")\n",
    "\n",
    "# 用法\n",
    "for idx, line in enumerate(stream_lines(file_path)):\n",
    "    if idx < 3:\n",
    "        print(line)\n",
    "    else:\n",
    "        break"
   ]
  },
  {
   "cell_type": "markdown",
   "id": "bd7bba06",
   "metadata": {},
   "source": [
    "## Pandas\n",
    "\n",
    "- [pandas.read_csv — pandas 2.3.1 documentation](https://pandas.pydata.org/docs/reference/api/pandas.read_csv.html)\n",
    "- [IO tools (text, CSV, HDF5, …) — pandas 2.3.1 documentation](https://pandas.pydata.org/docs/user_guide/io.html#iterating-through-files-chunk-by-chunk)"
   ]
  },
  {
   "cell_type": "code",
   "execution_count": 29,
   "id": "5123217a",
   "metadata": {},
   "outputs": [
    {
     "name": "stdout",
     "output_type": "stream",
     "text": [
      "                                                    0\n",
      "0   0050  083004446448T   000000000000005 01995000...\n",
      "1   0050  083009462008T   000000000000005 01995000...\n",
      "2   0050  083014478574T   000000000000005 01995000...\n",
      "3   0050  083019493222T   000000000000005 01995000...\n",
      "4   0050  083024508770T   000000000000005 01995000...\n",
      "5   0050  083029525440T   000000000000005 01995000...\n",
      "6   0050  083034542076T   000000000000005 01995000...\n",
      "7   0050  083039555650T   000000000000005 01995000...\n",
      "8   0050  083044571226T   000000000000005 01995000...\n",
      "9   0050  083049585802T   000000000000005 01995000...\n",
      "10  0050  083054602448T   000000000000005 01995000...\n",
      "11  0050  083059617025T   000000000000005 01995000...\n",
      "12  0050  083104632642T   000000000000005 01995000...\n",
      "13  0050  083109647214T   000000000000005 01995000...\n",
      "14  0050  083114662367T   000000000000005 01992500...\n",
      "15  0050  083119677393T   000000000000005 01990500...\n",
      "16  0050  083124694034T   000000000000005 01990500...\n",
      "17  0050  083129709667T   000000000000005 01990000...\n",
      "18  0050  083134726835T   000000000000005 01990000...\n",
      "19  0050  083139743978T   000000000000005 01990000...\n",
      "20  9958  132817464384T   018450000094915 01850000...\n",
      "21  9958  132827497621T   018450000094915 01845000...\n",
      "22  9958  132832513228T   018450000094915 01845000...\n",
      "23  9958  132837530112T   018450000094915 01845000...\n",
      "24  9958  132842545459T   018450000094915 01845000...\n",
      "25  9958  132847562079T   018450000094915 01845000...\n",
      "26  9958  132852576658T   018450000094915 01845000...\n",
      "27  9958  132857600436T   018450000094915 01850000...\n",
      "28  9958  132902615629T   018450000094915 01850000...\n",
      "29  9958  132907631142T   018450000094915 01850000...\n",
      "30  9958  132912652130T   018450000094915 01850000...\n",
      "31  9958  132917667203T   018450000094915 01850000...\n",
      "32  9958  132922681987T   018450000094915 01850000...\n",
      "33  9958  132927699682T   018450000094915 01850000...\n",
      "34  9958  132932717128T   018450000094915 01850000...\n",
      "35  9958  132937733590T   018450000094915 01850000...\n",
      "36  9958  132947767669T   018450000094915 01850000...\n",
      "37  9958  132952784230T   018450000094915 01850000...\n",
      "38  9958  132957801848T   018450000094915 01850000...\n",
      "39  9958  133000000000  Y 018500000098365 01850000...\n"
     ]
    }
   ],
   "source": [
    "import pandas as pd\n",
    "\n",
    "with pd.read_csv(\n",
    "    file_path,\n",
    "    # ↓ 若是多欄位 CSV，就正常設定即可\n",
    "    # sep=\"\\t\",            # or \",\"\n",
    "    header=None,\n",
    "    compression=\"gzip\",\n",
    "    # chunksize=1_000_000,  # 建議大檔用 iterator\n",
    "    iterator=True, # TextFileReader\n",
    ") as reader:\n",
    "    for chunk in reader:\n",
    "        print(chunk)\n",
    "        break"
   ]
  },
  {
   "cell_type": "markdown",
   "id": "10d0815a",
   "metadata": {},
   "source": [
    "## Polars / Arrow\n",
    "\n",
    "- [polars.scan_csv — Polars documentation](https://docs.pola.rs/api/python/dev/reference/api/polars.scan_csv.html)\n",
    "- [polars.LazyFrame.collect — Polars documentation](https://docs.pola.rs/api/python/dev/reference/lazyframe/api/polars.LazyFrame.collect.html)"
   ]
  },
  {
   "cell_type": "code",
   "execution_count": 24,
   "id": "b2fbea8f",
   "metadata": {},
   "outputs": [
    {
     "name": "stdout",
     "output_type": "stream",
     "text": [
      "\u001b[2mUsing Python 3.12.3 environment at: /home/daviddwlee84/Documents/Program/Tons/TWSE-Tick-Data/.venv\u001b[0m\n",
      "\u001b[2K\u001b[2mResolved \u001b[1m1 package\u001b[0m \u001b[2min 630ms\u001b[0m\u001b[0m                                          \u001b[0m\n",
      "\u001b[2K\u001b[37m⠙\u001b[0m \u001b[2mPreparing packages...\u001b[0m (0/1)                                                   \n",
      "\u001b[2K\u001b[1A\u001b[37m⠙\u001b[0m \u001b[2mPreparing packages...\u001b[0m (0/1)--------------\u001b[0m\u001b[0m     0 B/33.43 MiB           \u001b[1A\n",
      "\u001b[2K\u001b[1A\u001b[37m⠙\u001b[0m \u001b[2mPreparing packages...\u001b[0m (0/1)--------------\u001b[0m\u001b[0m 14.91 KiB/33.43 MiB         \u001b[1A\n",
      "\u001b[2K\u001b[1A\u001b[37m⠙\u001b[0m \u001b[2mPreparing packages...\u001b[0m (0/1)--------------\u001b[0m\u001b[0m 30.91 KiB/33.43 MiB         \u001b[1A\n",
      "\u001b[2K\u001b[1A\u001b[37m⠙\u001b[0m \u001b[2mPreparing packages...\u001b[0m (0/1)--------------\u001b[0m\u001b[0m 46.91 KiB/33.43 MiB         \u001b[1A\n",
      "\u001b[2K\u001b[1A\u001b[37m⠙\u001b[0m \u001b[2mPreparing packages...\u001b[0m (0/1)--------------\u001b[0m\u001b[0m 62.91 KiB/33.43 MiB         \u001b[1A\n",
      "\u001b[2K\u001b[1A\u001b[37m⠙\u001b[0m \u001b[2mPreparing packages...\u001b[0m (0/1)--------------\u001b[0m\u001b[0m 78.91 KiB/33.43 MiB         \u001b[1A\n",
      "\u001b[2K\u001b[1A\u001b[37m⠙\u001b[0m \u001b[2mPreparing packages...\u001b[0m (0/1)--------------\u001b[0m\u001b[0m 94.91 KiB/33.43 MiB         \u001b[1A\n",
      "\u001b[2K\u001b[1A\u001b[37m⠙\u001b[0m \u001b[2mPreparing packages...\u001b[0m (0/1)--------------\u001b[0m\u001b[0m 110.91 KiB/33.43 MiB        \u001b[1A\n",
      "\u001b[2K\u001b[1A\u001b[37m⠙\u001b[0m \u001b[2mPreparing packages...\u001b[0m (0/1)--------------\u001b[0m\u001b[0m 126.91 KiB/33.43 MiB        \u001b[1A\n",
      "\u001b[2K\u001b[1A\u001b[37m⠙\u001b[0m \u001b[2mPreparing packages...\u001b[0m (0/1)--------------\u001b[0m\u001b[0m 142.91 KiB/33.43 MiB        \u001b[1A\n",
      "\u001b[2K\u001b[1A\u001b[37m⠙\u001b[0m \u001b[2mPreparing packages...\u001b[0m (0/1)--------------\u001b[0m\u001b[0m 158.91 KiB/33.43 MiB        \u001b[1A\n",
      "\u001b[2K\u001b[1A\u001b[37m⠙\u001b[0m \u001b[2mPreparing packages...\u001b[0m (0/1)--------------\u001b[0m\u001b[0m 174.91 KiB/33.43 MiB        \u001b[1A\n",
      "\u001b[2K\u001b[1A\u001b[37m⠙\u001b[0m \u001b[2mPreparing packages...\u001b[0m (0/1)--------------\u001b[0m\u001b[0m 190.91 KiB/33.43 MiB        \u001b[1A\n",
      "\u001b[2K\u001b[1A\u001b[37m⠙\u001b[0m \u001b[2mPreparing packages...\u001b[0m (0/1)--------------\u001b[0m\u001b[0m 206.91 KiB/33.43 MiB        \u001b[1A\n",
      "\u001b[2K\u001b[1A\u001b[37m⠙\u001b[0m \u001b[2mPreparing packages...\u001b[0m (0/1)--------------\u001b[0m\u001b[0m 222.91 KiB/33.43 MiB        \u001b[1A\n",
      "\u001b[2K\u001b[1A\u001b[37m⠙\u001b[0m \u001b[2mPreparing packages...\u001b[0m (0/1)--------------\u001b[0m\u001b[0m 238.91 KiB/33.43 MiB        \u001b[1A\n",
      "\u001b[2K\u001b[1A\u001b[37m⠙\u001b[0m \u001b[2mPreparing packages...\u001b[0m (0/1)--------------\u001b[0m\u001b[0m 254.91 KiB/33.43 MiB        \u001b[1A\n",
      "\u001b[2K\u001b[1A\u001b[37m⠹\u001b[0m \u001b[2mPreparing packages...\u001b[0m (0/1)--------------\u001b[0m\u001b[0m 270.91 KiB/33.43 MiB        \u001b[1A\n",
      "\u001b[2K\u001b[1A\u001b[37m⠹\u001b[0m \u001b[2mPreparing packages...\u001b[0m (0/1)--------------\u001b[0m\u001b[0m 270.91 KiB/33.43 MiB        \u001b[1A\n",
      "\u001b[2K\u001b[1A\u001b[37m⠹\u001b[0m \u001b[2mPreparing packages...\u001b[0m (0/1)--------------\u001b[0m\u001b[0m 286.91 KiB/33.43 MiB        \u001b[1A\n",
      "\u001b[2K\u001b[1A\u001b[37m⠹\u001b[0m \u001b[2mPreparing packages...\u001b[0m (0/1)--------------\u001b[0m\u001b[0m 302.91 KiB/33.43 MiB        \u001b[1A\n",
      "\u001b[2K\u001b[1A\u001b[37m⠹\u001b[0m \u001b[2mPreparing packages...\u001b[0m (0/1)--------------\u001b[0m\u001b[0m 722.38 KiB/33.43 MiB        \u001b[1A\n",
      "\u001b[2K\u001b[1A\u001b[37m⠹\u001b[0m \u001b[2mPreparing packages...\u001b[0m (0/1)--------------\u001b[0m\u001b[0m 1.22 MiB/33.43 MiB          \u001b[1A\n",
      "\u001b[2K\u001b[1A\u001b[37m⠹\u001b[0m \u001b[2mPreparing packages...\u001b[0m (0/1)--------------\u001b[0m\u001b[0m 1.79 MiB/33.43 MiB          \u001b[1A\n",
      "\u001b[2K\u001b[1A\u001b[37m⠸\u001b[0m \u001b[2mPreparing packages...\u001b[0m (0/1)--------------\u001b[0m\u001b[0m 2.33 MiB/33.43 MiB          \u001b[1A\n",
      "\u001b[2K\u001b[1A\u001b[37m⠸\u001b[0m \u001b[2mPreparing packages...\u001b[0m (0/1)--------------\u001b[0m\u001b[0m 2.89 MiB/33.43 MiB          \u001b[1A\n",
      "\u001b[2K\u001b[1A\u001b[37m⠸\u001b[0m \u001b[2mPreparing packages...\u001b[0m (0/1)--------------\u001b[0m\u001b[0m 3.45 MiB/33.43 MiB          \u001b[1A\n",
      "\u001b[2K\u001b[1A\u001b[37m⠼\u001b[0m \u001b[2mPreparing packages...\u001b[0m (0/1)--------------\u001b[0m\u001b[0m 4.00 MiB/33.43 MiB          \u001b[1A\n",
      "\u001b[2K\u001b[1A\u001b[37m⠼\u001b[0m \u001b[2mPreparing packages...\u001b[0m (0/1)--------------\u001b[0m\u001b[0m 4.52 MiB/33.43 MiB          \u001b[1A\n",
      "\u001b[2K\u001b[1A\u001b[37m⠼\u001b[0m \u001b[2mPreparing packages...\u001b[0m (0/1)--------------\u001b[0m\u001b[0m 5.08 MiB/33.43 MiB          \u001b[1A\n",
      "\u001b[2K\u001b[1A\u001b[37m⠼\u001b[0m \u001b[2mPreparing packages...\u001b[0m (0/1)--------------\u001b[0m\u001b[0m 5.64 MiB/33.43 MiB          \u001b[1A\n",
      "\u001b[2K\u001b[1A\u001b[37m⠴\u001b[0m \u001b[2mPreparing packages...\u001b[0m (0/1)--------------\u001b[0m\u001b[0m 6.20 MiB/33.43 MiB          \u001b[1A\n",
      "\u001b[2K\u001b[1A\u001b[37m⠴\u001b[0m \u001b[2mPreparing packages...\u001b[0m (0/1)--------------\u001b[0m\u001b[0m 6.74 MiB/33.43 MiB          \u001b[1A\n",
      "\u001b[2K\u001b[1A\u001b[37m⠴\u001b[0m \u001b[2mPreparing packages...\u001b[0m (0/1)--------------\u001b[0m\u001b[0m 7.28 MiB/33.43 MiB          \u001b[1A\n",
      "\u001b[2K\u001b[1A\u001b[37m⠴\u001b[0m \u001b[2mPreparing packages...\u001b[0m (0/1)--------------\u001b[0m\u001b[0m 7.83 MiB/33.43 MiB          \u001b[1A\n",
      "\u001b[2K\u001b[1A\u001b[37m⠦\u001b[0m \u001b[2mPreparing packages...\u001b[0m (0/1)--------------\u001b[0m\u001b[0m 8.38 MiB/33.43 MiB          \u001b[1A\n",
      "\u001b[2K\u001b[1A\u001b[37m⠦\u001b[0m \u001b[2mPreparing packages...\u001b[0m (0/1)--------------\u001b[0m\u001b[0m 8.93 MiB/33.43 MiB          \u001b[1A\n",
      "\u001b[2K\u001b[1A\u001b[37m⠦\u001b[0m \u001b[2mPreparing packages...\u001b[0m (0/1)--------------\u001b[0m\u001b[0m 9.48 MiB/33.43 MiB          \u001b[1A\n",
      "\u001b[2K\u001b[1A\u001b[37m⠦\u001b[0m \u001b[2mPreparing packages...\u001b[0m (0/1)--------------\u001b[0m\u001b[0m 10.03 MiB/33.43 MiB         \u001b[1A\n",
      "\u001b[2K\u001b[1A\u001b[37m⠦\u001b[0m \u001b[2mPreparing packages...\u001b[0m (0/1)--------------\u001b[0m\u001b[0m 10.57 MiB/33.43 MiB         \u001b[1A\n",
      "\u001b[2K\u001b[1A\u001b[37m⠧\u001b[0m \u001b[2mPreparing packages...\u001b[0m (0/1)--------------\u001b[0m\u001b[0m 11.11 MiB/33.43 MiB         \u001b[1A\n",
      "\u001b[2K\u001b[1A\u001b[37m⠧\u001b[0m \u001b[2mPreparing packages...\u001b[0m (0/1)--------------\u001b[0m\u001b[0m 11.67 MiB/33.43 MiB         \u001b[1A\n",
      "\u001b[2K\u001b[1A\u001b[37m⠧\u001b[0m \u001b[2mPreparing packages...\u001b[0m (0/1)--------------\u001b[0m\u001b[0m 12.22 MiB/33.43 MiB         \u001b[1A\n",
      "\u001b[2K\u001b[1A\u001b[37m⠧\u001b[0m \u001b[2mPreparing packages...\u001b[0m (0/1)--------------\u001b[0m\u001b[0m 12.78 MiB/33.43 MiB         \u001b[1A\n",
      "\u001b[2K\u001b[1A\u001b[37m⠇\u001b[0m \u001b[2mPreparing packages...\u001b[0m (0/1)--------------\u001b[0m\u001b[0m 13.32 MiB/33.43 MiB         \u001b[1A\n",
      "\u001b[2K\u001b[1A\u001b[37m⠇\u001b[0m \u001b[2mPreparing packages...\u001b[0m (0/1)--------------\u001b[0m\u001b[0m 13.87 MiB/33.43 MiB         \u001b[1A\n",
      "\u001b[2K\u001b[1A\u001b[37m⠇\u001b[0m \u001b[2mPreparing packages...\u001b[0m (0/1)--------------\u001b[0m\u001b[0m 14.42 MiB/33.43 MiB         \u001b[1A\n",
      "\u001b[2K\u001b[1A\u001b[37m⠇\u001b[0m \u001b[2mPreparing packages...\u001b[0m (0/1)--------------\u001b[0m\u001b[0m 14.96 MiB/33.43 MiB         \u001b[1A\n",
      "\u001b[2K\u001b[1A\u001b[37m⠋\u001b[0m \u001b[2mPreparing packages...\u001b[0m (0/1)--------------\u001b[0m\u001b[0m 15.50 MiB/33.43 MiB         \u001b[1A\n",
      "\u001b[2K\u001b[1A\u001b[37m⠋\u001b[0m \u001b[2mPreparing packages...\u001b[0m (0/1)--------------\u001b[0m\u001b[0m 16.06 MiB/33.43 MiB         \u001b[1A\n",
      "\u001b[2K\u001b[1A\u001b[37m⠋\u001b[0m \u001b[2mPreparing packages...\u001b[0m (0/1)--------------\u001b[0m\u001b[0m 16.60 MiB/33.43 MiB         \u001b[1A\n",
      "\u001b[2K\u001b[1A\u001b[37m⠙\u001b[0m \u001b[2mPreparing packages...\u001b[0m (0/1)--------------\u001b[0m\u001b[0m 17.16 MiB/33.43 MiB         \u001b[1A\n",
      "\u001b[2K\u001b[1A\u001b[37m⠙\u001b[0m \u001b[2mPreparing packages...\u001b[0m (0/1)--------------\u001b[0m\u001b[0m 17.69 MiB/33.43 MiB         \u001b[1A\n",
      "\u001b[2K\u001b[1A\u001b[37m⠙\u001b[0m \u001b[2mPreparing packages...\u001b[0m (0/1)m-------------\u001b[0m\u001b[0m 18.26 MiB/33.43 MiB         \u001b[1A\n",
      "\u001b[2K\u001b[1A\u001b[37m⠙\u001b[0m \u001b[2mPreparing packages...\u001b[0m (0/1)m-------------\u001b[0m\u001b[0m 18.82 MiB/33.43 MiB         \u001b[1A\n",
      "\u001b[2K\u001b[1A\u001b[37m⠹\u001b[0m \u001b[2mPreparing packages...\u001b[0m (0/1)2m------------\u001b[0m\u001b[0m 19.35 MiB/33.43 MiB         \u001b[1A\n",
      "\u001b[2K\u001b[1A\u001b[37m⠹\u001b[0m \u001b[2mPreparing packages...\u001b[0m (0/1)2m------------\u001b[0m\u001b[0m 19.89 MiB/33.43 MiB         \u001b[1A\n",
      "\u001b[2K\u001b[1A\u001b[37m⠹\u001b[0m \u001b[2mPreparing packages...\u001b[0m (0/1)[2m-----------\u001b[0m\u001b[0m 20.45 MiB/33.43 MiB         \u001b[1A\n",
      "\u001b[2K\u001b[1A\u001b[37m⠹\u001b[0m \u001b[2mPreparing packages...\u001b[0m (0/1)[2m-----------\u001b[0m\u001b[0m 21.01 MiB/33.43 MiB         \u001b[1A\n",
      "\u001b[2K\u001b[1A\u001b[37m⠹\u001b[0m \u001b[2mPreparing packages...\u001b[0m (0/1)\u001b[2m----------\u001b[0m\u001b[0m 21.54 MiB/33.43 MiB         \u001b[1A\n",
      "\u001b[2K\u001b[1A\u001b[37m⠸\u001b[0m \u001b[2mPreparing packages...\u001b[0m (0/1)\u001b[2m----------\u001b[0m\u001b[0m 22.09 MiB/33.43 MiB         \u001b[1A\n",
      "\u001b[2K\u001b[1A\u001b[37m⠸\u001b[0m \u001b[2mPreparing packages...\u001b[0m (0/1)-\u001b[2m---------\u001b[0m\u001b[0m 22.65 MiB/33.43 MiB         \u001b[1A\n",
      "\u001b[2K\u001b[1A\u001b[37m⠸\u001b[0m \u001b[2mPreparing packages...\u001b[0m (0/1)-\u001b[2m---------\u001b[0m\u001b[0m 23.20 MiB/33.43 MiB         \u001b[1A\n",
      "\u001b[2K\u001b[1A\u001b[37m⠼\u001b[0m \u001b[2mPreparing packages...\u001b[0m (0/1)--\u001b[2m--------\u001b[0m\u001b[0m 23.74 MiB/33.43 MiB         \u001b[1A\n",
      "\u001b[2K\u001b[1A\u001b[37m⠼\u001b[0m \u001b[2mPreparing packages...\u001b[0m (0/1)--\u001b[2m--------\u001b[0m\u001b[0m 24.28 MiB/33.43 MiB         \u001b[1A\n",
      "\u001b[2K\u001b[1A\u001b[37m⠼\u001b[0m \u001b[2mPreparing packages...\u001b[0m (0/1)---\u001b[2m-------\u001b[0m\u001b[0m 24.83 MiB/33.43 MiB         \u001b[1A\n",
      "\u001b[2K\u001b[1A\u001b[37m⠼\u001b[0m \u001b[2mPreparing packages...\u001b[0m (0/1)---\u001b[2m-------\u001b[0m\u001b[0m 25.39 MiB/33.43 MiB         \u001b[1A\n",
      "\u001b[2K\u001b[1A\u001b[37m⠴\u001b[0m \u001b[2mPreparing packages...\u001b[0m (0/1)----\u001b[2m------\u001b[0m\u001b[0m 25.91 MiB/33.43 MiB         \u001b[1A\n",
      "\u001b[2K\u001b[1A\u001b[37m⠴\u001b[0m \u001b[2mPreparing packages...\u001b[0m (0/1)----\u001b[2m------\u001b[0m\u001b[0m 26.47 MiB/33.43 MiB         \u001b[1A\n",
      "\u001b[2K\u001b[1A\u001b[37m⠴\u001b[0m \u001b[2mPreparing packages...\u001b[0m (0/1)-----\u001b[2m-----\u001b[0m\u001b[0m 27.02 MiB/33.43 MiB         \u001b[1A\n",
      "\u001b[2K\u001b[1A\u001b[37m⠴\u001b[0m \u001b[2mPreparing packages...\u001b[0m (0/1)-----\u001b[2m-----\u001b[0m\u001b[0m 27.57 MiB/33.43 MiB         \u001b[1A\n",
      "\u001b[2K\u001b[1A\u001b[37m⠴\u001b[0m \u001b[2mPreparing packages...\u001b[0m (0/1)------\u001b[2m----\u001b[0m\u001b[0m 28.12 MiB/33.43 MiB         \u001b[1A\n",
      "\u001b[2K\u001b[1A\u001b[37m⠦\u001b[0m \u001b[2mPreparing packages...\u001b[0m (0/1)------\u001b[2m----\u001b[0m\u001b[0m 28.66 MiB/33.43 MiB         \u001b[1A\n",
      "\u001b[2K\u001b[1A\u001b[37m⠦\u001b[0m \u001b[2mPreparing packages...\u001b[0m (0/1)-------\u001b[2m---\u001b[0m\u001b[0m 29.21 MiB/33.43 MiB         \u001b[1A\n",
      "\u001b[2K\u001b[1A\u001b[37m⠦\u001b[0m \u001b[2mPreparing packages...\u001b[0m (0/1)-------\u001b[2m---\u001b[0m\u001b[0m 29.74 MiB/33.43 MiB         \u001b[1A\n",
      "\u001b[2K\u001b[1A\u001b[37m⠧\u001b[0m \u001b[2mPreparing packages...\u001b[0m (0/1)--------\u001b[2m--\u001b[0m\u001b[0m 30.31 MiB/33.43 MiB         \u001b[1A\n",
      "\u001b[2K\u001b[1A\u001b[37m⠧\u001b[0m \u001b[2mPreparing packages...\u001b[0m (0/1)--------\u001b[2m--\u001b[0m\u001b[0m 30.85 MiB/33.43 MiB         \u001b[1A\n",
      "\u001b[2K\u001b[1A\u001b[37m⠧\u001b[0m \u001b[2mPreparing packages...\u001b[0m (0/1)---------\u001b[2m-\u001b[0m\u001b[0m 31.40 MiB/33.43 MiB         \u001b[1A\n",
      "\u001b[2K\u001b[1A\u001b[37m⠧\u001b[0m \u001b[2mPreparing packages...\u001b[0m (0/1)---------\u001b[2m-\u001b[0m\u001b[0m 31.94 MiB/33.43 MiB         \u001b[1A\n",
      "\u001b[2K\u001b[1A\u001b[37m⠧\u001b[0m \u001b[2mPreparing packages...\u001b[0m (0/1)----------\u001b[2m\u001b[0m\u001b[0m 32.52 MiB/33.43 MiB         \u001b[1A\n",
      "\u001b[2K\u001b[2mPrepared \u001b[1m1 package\u001b[0m \u001b[2min 3.23s\u001b[0m\u001b[0m                                                  \u001b[1A\n",
      "\u001b[2K\u001b[2mInstalled \u001b[1m1 package\u001b[0m \u001b[2min 3ms\u001b[0m\u001b[0m                                  \u001b[0m\n",
      " \u001b[32m+\u001b[39m \u001b[1mpolars\u001b[0m\u001b[2m==1.31.0\u001b[0m\n"
     ]
    }
   ],
   "source": [
    "!uv pip install polars"
   ]
  },
  {
   "cell_type": "code",
   "execution_count": 28,
   "id": "5fe18e17",
   "metadata": {},
   "outputs": [
    {
     "data": {
      "text/html": [
       "<div><style>\n",
       ".dataframe > thead > tr,\n",
       ".dataframe > tbody > tr {\n",
       "  text-align: right;\n",
       "  white-space: pre-wrap;\n",
       "}\n",
       "</style>\n",
       "<small>shape: (40, 1)</small><table border=\"1\" class=\"dataframe\"><thead><tr><th>column_1</th></tr><tr><td>str</td></tr></thead><tbody><tr><td>&quot;0050&nbsp;&nbsp;083004446448T&nbsp;&nbsp;&nbsp;00000000…</td></tr><tr><td>&quot;0050&nbsp;&nbsp;083009462008T&nbsp;&nbsp;&nbsp;00000000…</td></tr><tr><td>&quot;0050&nbsp;&nbsp;083014478574T&nbsp;&nbsp;&nbsp;00000000…</td></tr><tr><td>&quot;0050&nbsp;&nbsp;083019493222T&nbsp;&nbsp;&nbsp;00000000…</td></tr><tr><td>&quot;0050&nbsp;&nbsp;083024508770T&nbsp;&nbsp;&nbsp;00000000…</td></tr><tr><td>&hellip;</td></tr><tr><td>&quot;9958&nbsp;&nbsp;132937733590T&nbsp;&nbsp;&nbsp;01845000…</td></tr><tr><td>&quot;9958&nbsp;&nbsp;132947767669T&nbsp;&nbsp;&nbsp;01845000…</td></tr><tr><td>&quot;9958&nbsp;&nbsp;132952784230T&nbsp;&nbsp;&nbsp;01845000…</td></tr><tr><td>&quot;9958&nbsp;&nbsp;132957801848T&nbsp;&nbsp;&nbsp;01845000…</td></tr><tr><td>&quot;9958&nbsp;&nbsp;133000000000&nbsp;&nbsp;Y 01850000…</td></tr></tbody></table></div>"
      ],
      "text/plain": [
       "shape: (40, 1)\n",
       "┌─────────────────────────────────┐\n",
       "│ column_1                        │\n",
       "│ ---                             │\n",
       "│ str                             │\n",
       "╞═════════════════════════════════╡\n",
       "│ 0050  083004446448T   00000000… │\n",
       "│ 0050  083009462008T   00000000… │\n",
       "│ 0050  083014478574T   00000000… │\n",
       "│ 0050  083019493222T   00000000… │\n",
       "│ 0050  083024508770T   00000000… │\n",
       "│ …                               │\n",
       "│ 9958  132937733590T   01845000… │\n",
       "│ 9958  132947767669T   01845000… │\n",
       "│ 9958  132952784230T   01845000… │\n",
       "│ 9958  132957801848T   01845000… │\n",
       "│ 9958  133000000000  Y 01850000… │\n",
       "└─────────────────────────────────┘"
      ]
     },
     "execution_count": 28,
     "metadata": {},
     "output_type": "execute_result"
    }
   ],
   "source": [
    "import polars as pl\n",
    "\n",
    "lazy_df = pl.scan_csv(\n",
    "    file_path,\n",
    "    has_header=False,\n",
    "    # separator=\"\\t\",\n",
    "    infer_schema_length=0,  # 全檔推斷欄位型別\n",
    "    # row_count_name=None,  # 關閉自動 row index (deprecated)\n",
    "    row_index_name=None,\n",
    ")\n",
    "result = lazy_df.collect(  # 隨便示範\n",
    "    # streaming=True # (deprecated)\n",
    "    engine=\"streaming\",\n",
    ")  # 真的要 materialize 時才讀\n",
    "result"
   ]
  },
  {
   "cell_type": "code",
   "execution_count": null,
   "id": "3497804f",
   "metadata": {},
   "outputs": [],
   "source": []
  }
 ],
 "metadata": {
  "kernelspec": {
   "display_name": ".venv",
   "language": "python",
   "name": "python3"
  },
  "language_info": {
   "codemirror_mode": {
    "name": "ipython",
    "version": 3
   },
   "file_extension": ".py",
   "mimetype": "text/x-python",
   "name": "python",
   "nbconvert_exporter": "python",
   "pygments_lexer": "ipython3",
   "version": "3.12.3"
  }
 },
 "nbformat": 4,
 "nbformat_minor": 5
}
