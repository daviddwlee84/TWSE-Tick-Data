{
 "cells": [
  {
   "cell_type": "markdown",
   "id": "a3fc1612",
   "metadata": {},
   "source": [
    "# Load Previous Close using Fugle API"
   ]
  },
  {
   "cell_type": "code",
   "execution_count": 2,
   "id": "3ce26fe0",
   "metadata": {},
   "outputs": [
    {
     "data": {
      "text/plain": [
       "True"
      ]
     },
     "execution_count": 2,
     "metadata": {},
     "output_type": "execute_result"
    }
   ],
   "source": [
    "from dotenv import load_dotenv, find_dotenv\n",
    "import os\n",
    "load_dotenv(find_dotenv())"
   ]
  },
  {
   "cell_type": "code",
   "execution_count": 4,
   "id": "4cc4d37c",
   "metadata": {},
   "outputs": [],
   "source": [
    "from fugle_marketdata import RestClient"
   ]
  },
  {
   "cell_type": "code",
   "execution_count": 5,
   "id": "f0a8bccf",
   "metadata": {},
   "outputs": [
    {
     "data": {
      "text/plain": [
       "<fugle_marketdata.rest.factory.RestClientFactory at 0x105bde6c0>"
      ]
     },
     "execution_count": 5,
     "metadata": {},
     "output_type": "execute_result"
    }
   ],
   "source": [
    "client = RestClient(api_key = os.getenv(\"FUGLE_API_KEY\"))\n",
    "client"
   ]
  },
  {
   "cell_type": "code",
   "execution_count": 6,
   "id": "1c6e776d",
   "metadata": {},
   "outputs": [
    {
     "name": "stdout",
     "output_type": "stream",
     "text": [
      "{'date': '2025-07-15', 'type': 'EQUITY', 'exchange': 'TWSE', 'market': 'TSE', 'symbol': '2330', 'name': '台積電', 'referencePrice': 1095, 'previousClose': 1095, 'openPrice': 1095, 'openTime': 1752541202562337, 'highPrice': 1115, 'highTime': 1752544865444180, 'lowPrice': 1090, 'lowTime': 1752541202721210, 'closePrice': 1110, 'closeTime': 1752557400000000, 'avgPrice': 1104.2, 'change': 15, 'changePercent': 1.37, 'amplitude': 2.28, 'lastPrice': 1110, 'lastSize': 4959, 'bids': [{'price': 1105, 'size': 2226}, {'price': 1100, 'size': 2153}, {'price': 1095, 'size': 1373}, {'price': 1090, 'size': 999}, {'price': 1085, 'size': 1534}], 'asks': [{'price': 1110, 'size': 400}, {'price': 1115, 'size': 5879}, {'price': 1120, 'size': 4529}, {'price': 1125, 'size': 1533}, {'price': 1130, 'size': 1374}], 'total': {'tradeValue': 49977210000, 'tradeVolume': 45261, 'tradeVolumeAtBid': 10634, 'tradeVolumeAtAsk': 33289, 'transaction': 5570, 'time': 1752557400000000}, 'lastTrade': {'bid': 1105, 'ask': 1110, 'price': 1110, 'size': 4959, 'time': 1752557400000000, 'serial': 7736399}, 'lastTrial': {'bid': 1105, 'ask': 1110, 'price': 1110, 'size': 4956, 'time': 1752557398524789, 'serial': 7736071}, 'isClose': True, 'serial': 7736399, 'lastUpdated': 1752557400000000}\n"
     ]
    }
   ],
   "source": [
    "stock = client.stock  # Stock REST API client\n",
    "print(stock.intraday.quote(symbol=\"2330\"))"
   ]
  },
  {
   "cell_type": "markdown",
   "id": "d7b33688",
   "metadata": {},
   "source": [
    "[Historical Stats | Fugle Developer Docs](https://developer.fugle.tw/docs/data/http-api/historical/stats)"
   ]
  },
  {
   "cell_type": "code",
   "execution_count": 7,
   "id": "dfe31e61",
   "metadata": {},
   "outputs": [
    {
     "data": {
      "text/plain": [
       "{'date': '2025-07-14',\n",
       " 'type': 'EQUITY',\n",
       " 'exchange': 'TWSE',\n",
       " 'market': 'TSE',\n",
       " 'symbol': '0050',\n",
       " 'name': '元大台灣50',\n",
       " 'openPrice': 49.59,\n",
       " 'highPrice': 49.59,\n",
       " 'lowPrice': 49.21,\n",
       " 'closePrice': 49.33,\n",
       " 'change': -0.29,\n",
       " 'tradeVolume': 65170727,\n",
       " 'tradeValue': 3216296277,\n",
       " 'previousClose': 49.62,\n",
       " 'week52High': 206,\n",
       " 'week52Low': 46.28}"
      ]
     },
     "execution_count": 7,
     "metadata": {},
     "output_type": "execute_result"
    }
   ],
   "source": [
    "stock.historical.stats(symbol = \"0050\")"
   ]
  },
  {
   "cell_type": "code",
   "execution_count": null,
   "id": "21b935bb",
   "metadata": {},
   "outputs": [
    {
     "data": {
      "text/plain": [
       "{'date': '2025-07-14',\n",
       " 'type': 'EQUITY',\n",
       " 'exchange': 'TWSE',\n",
       " 'market': 'TSE',\n",
       " 'symbol': '0050',\n",
       " 'name': '元大台灣50',\n",
       " 'openPrice': 49.59,\n",
       " 'highPrice': 49.59,\n",
       " 'lowPrice': 49.21,\n",
       " 'closePrice': 49.33,\n",
       " 'change': -0.29,\n",
       " 'tradeVolume': 65170727,\n",
       " 'tradeValue': 3216296277,\n",
       " 'previousClose': 49.62,\n",
       " 'week52High': 206,\n",
       " 'week52Low': 46.28}"
      ]
     },
     "execution_count": 9,
     "metadata": {},
     "output_type": "execute_result"
    }
   ],
   "source": [
    "stock.historical.stats(symbol = \"0050\")"
   ]
  },
  {
   "cell_type": "code",
   "execution_count": null,
   "id": "f8bb076a",
   "metadata": {},
   "outputs": [
    {
     "data": {
      "text/plain": [
       "{'symbol': '0050',\n",
       " 'type': 'EQUITY',\n",
       " 'exchange': 'TWSE',\n",
       " 'market': 'TSE',\n",
       " 'timeframe': 'D',\n",
       " 'data': [{'date': '2023-02-08',\n",
       "   'open': 120.1,\n",
       "   'high': 120.95,\n",
       "   'low': 120,\n",
       "   'close': 120.85,\n",
       "   'volume': 9239321,\n",
       "   'change': 1.85},\n",
       "  {'date': '2023-02-07',\n",
       "   'open': 119.1,\n",
       "   'high': 119.25,\n",
       "   'low': 118.55,\n",
       "   'close': 119,\n",
       "   'volume': 8787291,\n",
       "   'change': -0.25},\n",
       "  {'date': '2023-02-06',\n",
       "   'open': 120.1,\n",
       "   'high': 120.1,\n",
       "   'low': 119.25,\n",
       "   'close': 119.25,\n",
       "   'volume': 14297030,\n",
       "   'change': -1.75}]}"
      ]
     },
     "execution_count": 10,
     "metadata": {},
     "output_type": "execute_result"
    }
   ],
   "source": [
    "# fields must contain the following values: open, high, low, close, volume, turnover, change'\n",
    "stock.historical.candles(**{\"symbol\": \"0050\", \"from\": \"2023-02-06\", \"to\": \"2023-02-08\", \"fields\": \"open,high,low,close,volume,change\"})"
   ]
  },
  {
   "cell_type": "code",
   "execution_count": null,
   "id": "0a1b3129",
   "metadata": {},
   "outputs": [],
   "source": []
  }
 ],
 "metadata": {
  "kernelspec": {
   "display_name": ".venv",
   "language": "python",
   "name": "python3"
  },
  "language_info": {
   "codemirror_mode": {
    "name": "ipython",
    "version": 3
   },
   "file_extension": ".py",
   "mimetype": "text/x-python",
   "name": "python",
   "nbconvert_exporter": "python",
   "pygments_lexer": "ipython3",
   "version": "3.12.7"
  }
 },
 "nbformat": 4,
 "nbformat_minor": 5
}
